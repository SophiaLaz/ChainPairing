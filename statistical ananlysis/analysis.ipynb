{
  "nbformat": 4,
  "nbformat_minor": 0,
  "metadata": {
    "colab": {
      "provenance": []
    },
    "kernelspec": {
      "name": "python3",
      "display_name": "Python 3"
    },
    "language_info": {
      "name": "python"
    }
  },
  "cells": [
    {
      "cell_type": "code",
      "execution_count": 1,
      "metadata": {
        "id": "1z1xZstMa84f"
      },
      "outputs": [],
      "source": [
        "import pandas as pd\n",
        "import scipy.stats as st"
      ]
    },
    {
      "cell_type": "markdown",
      "source": [
        "Загружаем таблицу сопряжённости для проверки зависимости типов цепей друг от друга."
      ],
      "metadata": {
        "id": "kli5rzdsbIsG"
      }
    },
    {
      "cell_type": "code",
      "source": [
        "table = pd.read_csv('conjugacy_table.csv', skiprows=1)\n",
        "table = table.drop(table.columns[0], axis=1)"
      ],
      "metadata": {
        "id": "ZRWZvMwcbAyH"
      },
      "execution_count": 2,
      "outputs": []
    },
    {
      "cell_type": "markdown",
      "source": [
        "Считаем критерий хи-квадрат для наших данных и сравниваем с табличным значением. Уровень значимости $\\alpha=0.05$."
      ],
      "metadata": {
        "id": "jZhS8KfrbnDl"
      }
    },
    {
      "cell_type": "code",
      "source": [
        "stat, p, dof, expected = st.chi2_contingency(table)\n",
        "prob = 0.95\n",
        "critical = st.chi2.ppf(prob, dof)\n",
        "\n",
        "if abs(stat) >= critical:\n",
        "      print('Зависимые (отвергаем гипотезу H0)')\n",
        "else:\n",
        "      print('Независимые (не отвергаем гипотезу H0)')\n",
        "\n",
        "alpha = 1.0 - prob\n",
        "if p <= alpha:\n",
        "    print('Зависимые (отвергаем гипотезу H0)')\n",
        "else:\n",
        "    print('Независимые (не отвергаем гипотезу H0)')"
      ],
      "metadata": {
        "colab": {
          "base_uri": "https://localhost:8080/"
        },
        "id": "CQQ63eVCbDdp",
        "outputId": "e5c47950-6390-41cc-9271-ff56ad0e11c4"
      },
      "execution_count": 3,
      "outputs": [
        {
          "output_type": "stream",
          "name": "stdout",
          "text": [
            "Зависимые (отвергаем гипотезу H0)\n",
            "Зависимые (отвергаем гипотезу H0)\n"
          ]
        }
      ]
    }
  ]
}
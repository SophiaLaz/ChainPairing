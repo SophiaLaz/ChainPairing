{
  "nbformat": 4,
  "nbformat_minor": 0,
  "metadata": {
    "colab": {
      "provenance": []
    },
    "kernelspec": {
      "name": "python3",
      "display_name": "Python 3"
    },
    "language_info": {
      "name": "python"
    }
  },
  "cells": [
    {
      "cell_type": "code",
      "execution_count": null,
      "metadata": {
        "id": "1z1xZstMa84f"
      },
      "outputs": [],
      "source": [
        "import pandas as pd\n",
        "import scipy.stats as st"
      ]
    },
    {
      "cell_type": "markdown",
      "source": [
        "Загружаем таблицу сопряжённости для проверки зависимости типов цепей друг от друга. При необходимости можно загрузить любую из двух таблиц: с общим разделением на лёгкие цепи (каппа и лямбда) или более детальным."
      ],
      "metadata": {
        "id": "kli5rzdsbIsG"
      }
    },
    {
      "cell_type": "code",
      "source": [
        "table_df = pd.read_csv('conjugacy_table.csv')\n",
        "# table_df = pd.read_csv('conjugacy_table_short.csv')\n",
        "table_df = table_df.drop(table_df.columns[0], axis=1)\n",
        "table = table_df.values.tolist()"
      ],
      "metadata": {
        "id": "ZRWZvMwcbAyH"
      },
      "execution_count": 44,
      "outputs": []
    },
    {
      "cell_type": "markdown",
      "source": [
        "Считаем критерий хи-квадрат для наших данных и сравниваем с табличным значением. Уровень значимости $\\alpha=0.05$."
      ],
      "metadata": {
        "id": "jZhS8KfrbnDl"
      }
    },
    {
      "cell_type": "code",
      "source": [
        "stat, p, dof, expected = st.chi2_contingency(table)\n",
        "prob = 0.95\n",
        "critical = st.chi2.ppf(prob, dof)\n",
        "\n",
        "if abs(stat) >= critical:\n",
        "      print('Зависимые (отвергаем гипотезу H0)')\n",
        "else:\n",
        "      print('Независимые (не отвергаем гипотезу H0)')\n",
        "\n",
        "alpha = 1.0 - prob\n",
        "if p <= alpha:\n",
        "    print('Зависимые (отвергаем гипотезу H0)')\n",
        "else:\n",
        "    print('Независимые (не отвергаем гипотезу H0)')"
      ],
      "metadata": {
        "colab": {
          "base_uri": "https://localhost:8080/"
        },
        "id": "CQQ63eVCbDdp",
        "outputId": "c452667a-8f32-4f30-ec44-cc830929df04"
      },
      "execution_count": 45,
      "outputs": [
        {
          "output_type": "stream",
          "name": "stdout",
          "text": [
            "Зависимые (отвергаем гипотезу H0)\n",
            "Зависимые (отвергаем гипотезу H0)\n"
          ]
        }
      ]
    },
    {
      "cell_type": "markdown",
      "source": [
        "Проверим критерий Крамера:\n",
        "\n",
        "$Cramer’s V = \\sqrt{\\frac{\\chi^2}{n\\min(c-1, r-1)}}$.\n",
        "\n",
        "Чем ближе он к единице, тем большей зависимостью обладают данные."
      ],
      "metadata": {
        "id": "qbankvOik8OO"
      }
    },
    {
      "cell_type": "code",
      "source": [
        "r, c = table_df.shape\n",
        "n = table_df.values.sum()\n",
        "cramer = (stat / (n * min(c-1, r-1))) ** 0.5\n",
        "print(cramer)"
      ],
      "metadata": {
        "colab": {
          "base_uri": "https://localhost:8080/"
        },
        "id": "bor9nBe8oxwn",
        "outputId": "528ab938-5168-48ec-ac90-b47ee72756e8"
      },
      "execution_count": 46,
      "outputs": [
        {
          "output_type": "stream",
          "name": "stdout",
          "text": [
            "0.05736253589888975\n"
          ]
        }
      ]
    },
    {
      "cell_type": "markdown",
      "source": [
        "Значение критерия Крамера близко к нулю, что говори о крайне слабой связи между категориальными признаками.\n",
        "\n",
        "Аналогичный анализ был проведён для таблицы **conjugacy_table_short**. Результат не изменился: хи-квадрат показывает зависимость данных, Крамер равен $0.07$."
      ],
      "metadata": {
        "id": "OS6vOHGSnkQ_"
      }
    }
  ]
}
